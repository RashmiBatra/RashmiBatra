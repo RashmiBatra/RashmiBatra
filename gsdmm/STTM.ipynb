{
 "cells": [
  {
   "cell_type": "code",
   "execution_count": 1,
   "metadata": {},
   "outputs": [],
   "source": [
    "from pprint import pprint\n",
    "import sklearn\n",
    "from sklearn import preprocessing\n",
    "from sklearn.feature_extraction.text import TfidfVectorizer\n",
    "#import matplotlib.pyplot as plt\n",
    "import pandas as pd\n",
    "import seaborn as sns\n",
    "import numpy as np\n",
    "from pprint import pprint\n",
    "import matplotlib.pyplot as plt\n",
    "\n",
    "#import pyLDAvis\n",
    "#from sklearn.feature_extraction.text import CountVectorizer\n",
    "\n",
    "from sklearn.model_selection import train_test_split\n",
    "from sklearn import metrics\n",
    "from sklearn.metrics import confusion_matrix, precision_score, precision_recall_curve, recall_score, f1_score\n",
    "from sklearn.naive_bayes import MultinomialNB\n",
    "#from sklearn.metrics.pairwise import cosine_similarity\n",
    "#from sklearn.base import BaseEstimator, TransformerMixin\n",
    "#from sklearn.pipeline import FeatureUnion\n",
    "#from sklearn.feature_extraction import DictVectorizer\n",
    "#from sklearn.metrics import accuracy_score\n",
    "#from sklearn.model_selection import GridSearchCV\n",
    "#from sklearn.decomposition import LatentDirichletAllocation\n",
    "\n",
    "#from imblearn.over_sampling import SMOTE \n",
    "from os import path\n",
    "from wordcloud import WordCloud, STOPWORDS \n",
    "#from PIL import Image\n",
    "from wordcloud import ImageColorGenerator\n",
    "import re\n",
    "#import pickle\n",
    "#import joblib\n",
    "import spacy\n",
    "\n",
    "import nltk\n",
    "from nltk.corpus import stopwords\n",
    "from nltk.stem import WordNetLemmatizer\n",
    "import string\n",
    "from nltk import word_tokenize,sent_tokenize\n",
    "from nltk.stem.porter import PorterStemmer\n",
    "#from textblob import TextBlob\n",
    "#from vaderSentiment.vaderSentiment import SentimentIntensityAnalyzer\n",
    "import datetime\n",
    "import warnings"
   ]
  },
  {
   "cell_type": "code",
   "execution_count": 6,
   "metadata": {},
   "outputs": [
    {
     "name": "stdout",
     "output_type": "stream",
     "text": [
      "0       @Vodafone won't not let me port to @JioCare f...\n",
      "1            @jiocare Jio internet services depressing. \n",
      "2      @jiocare #jiofraud, no action in my complaint,...\n",
      "3      @jiocare Was recharging for Jio 999 plan. When...\n",
      "4      @jiocare It's been officially 10 days. Yet, no...\n",
      "                             ...                        \n",
      "356         Wants to access News channels through phone.\n",
      "357    Customer wants to block calls from a particula...\n",
      "358                                Checking IMEI status.\n",
      "359    Called to report demise of her grandmother & w...\n",
      "360                                Checking IMEI status.\n",
      "Name: Tweet, Length: 361, dtype: object\n"
     ]
    }
   ],
   "source": [
    "raw_df= pd.read_csv(r'G:/Symbi/Dataset/TelecomPOC New.csv',encoding='utf-8', parse_dates=[1])\n",
    "#raw_df= pd.read_csv(r'C:/Users/Tanisha Batra/Vi_tweets_test.csv',encoding='utf-8')\n",
    "raw_df.head()\n",
    "#neg = raw_df[raw_df.Sentiment1=='Negative']\n",
    "#neg = neg.reset_index(drop=True)\n",
    "text = raw_df.Tweet.dropna()\n",
    "print(text)\n",
    "\n",
    "#raw_df= raw_df[pd.notnull(raw_df['Tweet'])] #Delete rows where Tweet is null."
   ]
  },
  {
   "cell_type": "code",
   "execution_count": 7,
   "metadata": {},
   "outputs": [],
   "source": [
    "def clean_tweet(RawSentence):\n",
    "    \"\"\"\n",
    "    removing all hashtags , punctuations, stop_words  and links, also stemming words \n",
    "    \"\"\"\n",
    "        \n",
    "    txt = RawSentence.lower()\n",
    "    word_tokens = word_tokenize(txt)    \n",
    "    #word_tokens = word_tokenize(RawSentence)    \n",
    "    \n",
    "    lemma = WordNetLemmatizer()\n",
    "    nlp = spacy.load('en_core_web_sm') \n",
    "\n",
    "    stop_words = set(stopwords.words('english'))\n",
    "    stop_words.update([\"amp\", \"rt\", \"cc\"]) # adding twitter specific stop words\n",
    "    #stop_words = stop_words - set(['no', 'not','nil'])  #removing No, not, nil from stop words     \n",
    "    stop_words.update([\"worst\",\"airtelpresence\",\"sunday\",\"monday\",\"tuesday\",\"wednesday\",\"thursday\",\"friday\",\"saturday\",\n",
    "                       \"weekend\",\"apparently\",\"extremely\",\"worse\",\"consolation\",\"shouldnt\",\"wont\",\"arent\",\"maybe\"\n",
    "                     \"better\", \"other\",\"instead\",\"look\",\"yesterday\",\"unacceptable\",\"miss\",\"couldnt\",\"depress\",\"let\",\n",
    "                     \"thank\",\"actually\",\"frustrate\",\"ridiculous\",\"expect\",\"pathetic\",\"terrible\",\"hathway\",\n",
    "                     \"impossible\",\"ask\",\"earlier\",\"literally\",\"years\",\"surprise\",\"horrible\",\"airtel\",\"current\",\"face\",\n",
    "                     \"upset\",\"pls\",\"one\",\"two\",\"three\",\"four\",\"empty\",\"please\",\"good\",\"finally\",\"proper\",\"development\",\n",
    "                     \"situation\",\"company\",\"believe\",\"question\",\"anymore\",\"consolation\",\"mess\",\"shock\",\"longer\",\"twitter\",\n",
    "                      \"completely\",\"finally\", \"waste\",\"shock\",\"annoy\",\"strand\",\n",
    "                      \"important\",\"break\",\"reason\", \"first\",\"second\",\"third\",\"attempt\",\"officially\",\"absolutely\",\"hello\",\"yet\",\"know\",\"jio\",\n",
    "                      \"january\",\"february\",\"march\",\"april\",\"may\",\"june\",\"july\",\"august\",\"september\",\"october\",\"november\",\"december\",\"without\",\n",
    "                      \"vodafone\",\"get\",\"vodafoneidea\",\"vicustomercare\",\"vowifi\",\"since\",\"voda\",\"reliancejio\",\"jiocare\",\"time\",\"number\"])\n",
    "   \n",
    "    txt = re.sub(r\"(@\\S+)\", \"\", txt)  # remove @\n",
    "    txt = re.sub(r'\\W', ' ', str(txt)) # remove all special characters including apastrophie \n",
    "    txt = txt.translate(str.maketrans(' ', ' ', string.punctuation)) # remove punctuations \n",
    "    txt = re.sub(r'\\s+[a-zA-Z]\\s+', ' ', txt)   # remove all single characters from within the text (it's -> it s then we need to remove s)\n",
    "    txt = re.sub(r'\\^[a-zA-Z]\\s+', ' ', txt) # remove all single characters from beginning of the text \n",
    "    txt = re.sub(r'\\s+', ' ', txt, flags=re.I) # Substituting multiple spaces with single space\n",
    "    txt = re.sub(r\"(http\\S+|http)\", \"\", txt) # remove links \n",
    "    #txt = re.sub(r'^b\\s+', '', txt) # generally used when text is scrapped online. 'b' is prefixed often indicating binary text. This is not reqd for us \n",
    "    txt = [re.sub('\\s+', ' ', t) for t  in txt]     # Remove new line characters\n",
    "    txt = ''.join([i for i in txt if not i.isdigit()]).strip() # remove digits ()\n",
    "    txt = ' '.join([i for i in txt.split(\" \") if i not in stop_words])   # split() is native tokenizer in Python\n",
    "    #txt = ' '.join(lemma.lemmatize(word) for word in txt.split())           # Used lemmatizer later \n",
    "    #txt = ' '.join([PorterStemmer().stem(word=word) for word in txt.split(\" \") if word not in stop_words ]) # stem & remove stop words\n",
    "    #soup = BeautifulSoup(txt) #to scrap information from web pages....not needed here\n",
    "    #txt = soup.get_text\n",
    "    \n",
    "    def deEmojify(inputString):\n",
    "        return inputString.encode('ascii', 'ignore').decode('ascii')\n",
    "    \n",
    "    def stem_tokens(tokens, lemmatize):\n",
    "        lemmatized = []\n",
    "        for item in tokens:\n",
    "            lemmatized.append(lemma.lemmatize(item,'v'))\n",
    "        return lemmatized\n",
    "    \n",
    "    txt = deEmojify(txt)\n",
    "    tokens =[]\n",
    "    \n",
    "    excluded_tags = {\"ADJ\", \"ADV\", \"ADP\", \"PROPN\",\"CCONJ\",\"AUX\",\"DET\",\"PRON\",\"VERB\"}\n",
    "    for token in nlp(txt):\n",
    "        if token.pos_ not in excluded_tags:\n",
    "            tokens.append(token.text)\n",
    "    \n",
    "    lemm = stem_tokens(tokens, lemma)\n",
    "    #tokens = nltk.word_tokenize(txt)\n",
    "    tokens = [ch for ch in lemm if len(ch)>2] #remove words with character length below 3\n",
    "    #tokens = [ch for ch in tokens if len(ch)<=15] #remove words with character length above 15 \n",
    "    \n",
    "    joined_text = ' '.join(tokens)\n",
    "        \n",
    "    return joined_text"
   ]
  },
  {
   "cell_type": "code",
   "execution_count": 8,
   "metadata": {},
   "outputs": [],
   "source": [
    "raw_df['clean_tweet'] = raw_df.Tweet.apply(clean_tweet)"
   ]
  },
  {
   "cell_type": "code",
   "execution_count": 14,
   "metadata": {},
   "outputs": [
    {
     "data": {
      "image/png": "[encoded data removed]",
      "text/plain": [
       "<Figure size 720x360 with 1 Axes>"
      ]
     },
     "metadata": {
      "needs_background": "light"
     },
     "output_type": "display_data"
    }
   ],
   "source": [
    "import matplotlib.pyplot as plt\n",
    "from sklearn.model_selection import train_test_split\n",
    "X=raw_df['clean_tweet']\n",
    "X_train,X_test =train_test_split(X,test_size=0.3)\n",
    "#print(X_train)\n",
    "# calculate number of tokens for each tweet\n",
    "raw_df['tokens'] = raw_df['clean_tweet'].str.split().str.len()# plot average word count by user\n",
    "raw_df.groupby('Vertex2')['tokens'].mean().plot(kind='barh',figsize=(10,5))\n",
    "plt.xlabel('Average Words')\n",
    "plt.ylabel('Vertex')\n",
    "plt.show()"
   ]
  },
  {
   "cell_type": "code",
   "execution_count": 15,
   "metadata": {},
   "outputs": [
    {
     "name": "stderr",
     "output_type": "stream",
     "text": [
      "Cloning into 'gsdmm'...\n"
     ]
    }
   ],
   "source": [
    "!git clone https://github.com/rwalk/gsdmm.git gsdmm"
   ]
  },
  {
   "cell_type": "code",
   "execution_count": 17,
   "metadata": {},
   "outputs": [
    {
     "name": "stderr",
     "output_type": "stream",
     "text": [
      "ERROR: Could not find a version that satisfies the requirement gsdmm (from versions: none)\n",
      "ERROR: No matching distribution found for gsdmm\n"
     ]
    }
   ],
   "source": [
    "!pip install gsdmm\n",
    "python3 -m pip install google-cloud-dataproc"
   ]
  },
  {
   "cell_type": "code",
   "execution_count": 18,
   "metadata": {},
   "outputs": [
    {
     "ename": "ImportError",
     "evalue": "cannot import name 'MovieGroupProcess' from 'gsdmm' (unknown location)",
     "output_type": "error",
     "traceback": [
      "\u001b[1;31m---------------------------------------------------------------------------\u001b[0m",
      "\u001b[1;31mImportError\u001b[0m                               Traceback (most recent call last)",
      "\u001b[1;32m<ipython-input-18-a2d7767ab9c4>\u001b[0m in \u001b[0;36m<module>\u001b[1;34m\u001b[0m\n\u001b[0;32m      1\u001b[0m \u001b[1;32mimport\u001b[0m \u001b[0mgsdmm\u001b[0m\u001b[1;33m\u001b[0m\u001b[1;33m\u001b[0m\u001b[0m\n\u001b[1;32m----> 2\u001b[1;33m \u001b[1;32mfrom\u001b[0m \u001b[0mgsdmm\u001b[0m \u001b[1;32mimport\u001b[0m \u001b[0mMovieGroupProcess\u001b[0m\u001b[1;33m\u001b[0m\u001b[1;33m\u001b[0m\u001b[0m\n\u001b[0m\u001b[0;32m      3\u001b[0m \u001b[1;32mfrom\u001b[0m \u001b[0mtqdm\u001b[0m \u001b[1;32mimport\u001b[0m \u001b[0mtqdm\u001b[0m\u001b[1;31m# convert string of tokens into tokens list\u001b[0m\u001b[1;33m\u001b[0m\u001b[1;33m\u001b[0m\u001b[0m\n\u001b[0;32m      4\u001b[0m \u001b[0mraw_df\u001b[0m\u001b[1;33m[\u001b[0m\u001b[1;34m'tokens'\u001b[0m\u001b[1;33m]\u001b[0m \u001b[1;33m=\u001b[0m \u001b[0mX\u001b[0m\u001b[1;33m.\u001b[0m\u001b[0mapply\u001b[0m\u001b[1;33m(\u001b[0m\u001b[1;32mlambda\u001b[0m \u001b[0mx\u001b[0m\u001b[1;33m:\u001b[0m \u001b[0mre\u001b[0m\u001b[1;33m.\u001b[0m\u001b[0msplit\u001b[0m\u001b[1;33m(\u001b[0m\u001b[1;34m'\\s'\u001b[0m\u001b[1;33m,\u001b[0m \u001b[0mx\u001b[0m\u001b[1;33m)\u001b[0m\u001b[1;33m)\u001b[0m\u001b[1;31m# create list of  token lists\u001b[0m\u001b[1;33m\u001b[0m\u001b[1;33m\u001b[0m\u001b[0m\n\u001b[0;32m      5\u001b[0m \u001b[0mdocs\u001b[0m \u001b[1;33m=\u001b[0m \u001b[0mraw_df\u001b[0m\u001b[1;33m[\u001b[0m\u001b[1;34m'tokens'\u001b[0m\u001b[1;33m]\u001b[0m\u001b[1;33m.\u001b[0m\u001b[0mtolist\u001b[0m\u001b[1;33m(\u001b[0m\u001b[1;33m)\u001b[0m\u001b[1;33m\u001b[0m\u001b[1;33m\u001b[0m\u001b[0m\n",
      "\u001b[1;31mImportError\u001b[0m: cannot import name 'MovieGroupProcess' from 'gsdmm' (unknown location)"
     ]
    }
   ],
   "source": [
    "import gsdmm\n",
    "from gsdmm import MovieGroupProcess\n",
    "from tqdm import tqdm# convert string of tokens into tokens list\n",
    "raw_df['tokens'] = X.apply(lambda x: re.split('\\s', x))# create list of  token lists\n",
    "docs = raw_df['tokens'].tolist()\n"
   ]
  },
  {
   "cell_type": "code",
   "execution_count": 45,
   "metadata": {},
   "outputs": [],
   "source": [
    "# vectorize the corpus. the vectorizer object will convert text to vector form on the basis of frequency (count) of each word in text\n",
    "#Vectorization is a process of converting the text data into a machine-readable form. Each word forms the index. \n",
    "#min_df - will ignore words that are present in min_df percent or less no of documents \n",
    "#max_df - will take words that are present in max df percent of all the documents\n",
    "\n",
    "#vectorizer = CountVectorizer(max_df=0.9, min_df=10, ngram_range=(1,2), token_pattern='\\w+|\\$[\\d\\.]+|\\S+') \n",
    "#tfidf_vectorizer = TfidfVectorizer(max_df=0.9, min_df=20, ngram_range=(1,2), token_pattern='\\w+|\\$[\\d\\.]+|\\S+') \n",
    "#vectorizer = CountVectorizer(max_df=.95, min_df=0.05, ngram_range=(1,2),token_pattern='\\w+|\\$[\\d\\.]+|\\S+')\n",
    "#vectorizer = CountVectorizer(max_df=0.9, min_df=0.2, ngram_range=(1,2)) \n",
    "tfidf_vectorizer = TfidfVectorizer(max_df=0.9, min_df=10, ngram_range=(1,2))\n"
   ]
  },
  {
   "cell_type": "code",
   "execution_count": 46,
   "metadata": {},
   "outputs": [
    {
     "name": "stdout",
     "output_type": "stream",
     "text": [
      "['team', 'care', 'india', 'port', 'customers', 'problem', 'response', 'call', 'speed', 'store']\n"
     ]
    }
   ],
   "source": [
    "#vectors = tfidf_vectorizer.fit_transform(raw_df['clean_tweet']).toarray()\n",
    "vectors = tfidf_vectorizer.fit_transform(X_train)\n",
    "vectors.shape\n",
    "#vectors.nnz /float(vectors.shape[0])\n",
    "features = tfidf_vectorizer.get_feature_names()\n",
    "feature_order = np.argsort(tfidf_vectorizer.idf_)[::-1]\n",
    "top_n = 10\n",
    "top_n_features = [features[i] for i in feature_order[:top_n]]\n",
    "print(top_n_features)\n"
   ]
  },
  {
   "cell_type": "code",
   "execution_count": 47,
   "metadata": {},
   "outputs": [
    {
     "data": {
      "text/plain": [
       "(88, 21)"
      ]
     },
     "execution_count": 47,
     "metadata": {},
     "output_type": "execute_result"
    }
   ],
   "source": [
    "Test_Vectors=tfidf_vectorizer.transform(X_test).toarray()\n",
    "Test_Vectors.shape"
   ]
  },
  {
   "cell_type": "code",
   "execution_count": 48,
   "metadata": {},
   "outputs": [
    {
     "data": {
      "text/plain": [
       "0.027741330834114338"
      ]
     },
     "execution_count": 48,
     "metadata": {},
     "output_type": "execute_result"
    }
   ],
   "source": [
    "from sklearn import metrics\n",
    "clf = MultinomialNB(alpha=.01)\n",
    "clf.fit(vectors, X_train )\n",
    "pred = clf.predict(Test_Vectors) \n",
    "metrics.f1_score(X_test, pred, average='macro')"
   ]
  }
 ],
 "metadata": {
  "kernelspec": {
   "display_name": "Python (myenv)",
   "language": "python",
   "name": "myenv"
  },
  "language_info": {
   "codemirror_mode": {
    "name": "ipython",
    "version": 3
   },
   "file_extension": ".py",
   "mimetype": "text/x-python",
   "name": "python",
   "nbconvert_exporter": "python",
   "pygments_lexer": "ipython3",
   "version": "3.8.5"
  }
 },
 "nbformat": 4,
 "nbformat_minor": 4
}
